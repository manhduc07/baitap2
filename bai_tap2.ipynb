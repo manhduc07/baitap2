{
  "nbformat": 4,
  "nbformat_minor": 0,
  "metadata": {
    "colab": {
      "name": "bai tap2.ipynb",
      "provenance": [],
      "authorship_tag": "ABX9TyPUO0AQ2TDLIS+tACSLyADP",
      "include_colab_link": true
    },
    "kernelspec": {
      "name": "python3",
      "display_name": "Python 3"
    }
  },
  "cells": [
    {
      "cell_type": "markdown",
      "metadata": {
        "id": "view-in-github",
        "colab_type": "text"
      },
      "source": [
        "<a href=\"https://colab.research.google.com/github/manhduc07/baitap2/blob/main/bai_tap2.ipynb\" target=\"_parent\"><img src=\"https://colab.research.google.com/assets/colab-badge.svg\" alt=\"Open In Colab\"/></a>"
      ]
    },
    {
      "cell_type": "markdown",
      "metadata": {
        "id": "cmRMBKmGo841"
      },
      "source": [
        "Bài tập 1:\n"
      ]
    },
    {
      "cell_type": "code",
      "metadata": {
        "id": "d4CT8WzrrGHO",
        "outputId": "f8677bd7-3e45-451f-f672-ed22929cff41",
        "colab": {
          "base_uri": "https://localhost:8080/",
          "height": 140
        }
      },
      "source": [
        "a=input(\"nhập a = \")\n",
        "b=input(\"nhập b = \")\n",
        "a=int(a)\n",
        "b=int(b)\n",
        "c = a + b\n",
        "d = a * b\n",
        "h = a - b\n",
        "e = a % b\n",
        "q = a // b\n",
        "print(\"tổng a+b=\",c)\n",
        "print(\"tích a*b=\",d)\n",
        "print(\"hiệu a-b=\",h)\n",
        "print(\"phép chia lấy phần dư a % b=\",e)\n",
        "print(\"phép chia lấy phần nguyên a // b=\",q)"
      ],
      "execution_count": 1,
      "outputs": [
        {
          "output_type": "stream",
          "text": [
            "nhập a = 9\n",
            "nhập b = 2\n",
            "tổng a+b= 11\n",
            "tích a*b= 18\n",
            "hiệu a-b= 7\n",
            "phép chia lấy phần dư a % b= 1\n",
            "phép chia lấy phần nguyên a // b= 4\n"
          ],
          "name": "stdout"
        }
      ]
    },
    {
      "cell_type": "markdown",
      "metadata": {
        "id": "uNZF-mTcuLNm"
      },
      "source": [
        "Bài tập 2:"
      ]
    },
    {
      "cell_type": "code",
      "metadata": {
        "id": "m7e3lOX9uJ3o",
        "outputId": "9c5c6da3-9e19-48f2-907a-199b0bbf3045",
        "colab": {
          "base_uri": "https://localhost:8080/",
          "height": 122
        }
      },
      "source": [
        "a = input(\"nhập a= \")\n",
        "b = input(\"nhập b= \")\n",
        "a = float(a)\n",
        "b = float(b)\n",
        "c = a+b\n",
        "d = a*b\n",
        "e = a-b\n",
        "g = a/b\n",
        "print(\"tổng a+b=\",c)\n",
        "print(\"tích a*b=\",d)\n",
        "print(\"hiệu a-b=\",e)\n",
        "print(\"thương a/b=\",g)"
      ],
      "execution_count": 2,
      "outputs": [
        {
          "output_type": "stream",
          "text": [
            "nhập a= 6\n",
            "nhập b= 7\n",
            "tổng a+b= 13.0\n",
            "tích a*b= 42.0\n",
            "hiệu a-b= -1.0\n",
            "thương a/b= 0.8571428571428571\n"
          ],
          "name": "stdout"
        }
      ]
    },
    {
      "cell_type": "markdown",
      "metadata": {
        "id": "mw1sj85BNfGB"
      },
      "source": [
        "Bài tập 3:"
      ]
    },
    {
      "cell_type": "code",
      "metadata": {
        "id": "wi3DRdh4dTgj",
        "outputId": "900fb76d-7601-4829-a5a4-f7aba4602ce2",
        "colab": {
          "base_uri": "https://localhost:8080/",
          "height": 140
        }
      },
      "source": [
        "input(\"nhập x=-7.5\")\n",
        "x=-7.5\n",
        "print(\"trị tuyệt đối của x là\",abs(x))\n",
        "print(\"lấy phần nguyên của số\",int(x))\n",
        "print(\"chuyển đổi thành số thực\",float(x))\n",
        "input(\"nhập y=4\")\n",
        "y=4\n",
        "print(\"lũy thừa \",pow(x,y))\n",
        "import math\n",
        "print(\"căn bậc 2 của y là\",math.sqrt(y))"
      ],
      "execution_count": null,
      "outputs": [
        {
          "output_type": "stream",
          "text": [
            "nhập x=-7.5\n",
            "trị tuyệt đối của x là 7.5\n",
            "lấy phần nguyên của số -7\n",
            "chuyển đổi thành số thực -7.5\n",
            "nhập y=4\n",
            "lũy thừa  3164.0625\n",
            "căn bậc 2 của y là 2.0\n"
          ],
          "name": "stdout"
        }
      ]
    },
    {
      "cell_type": "markdown",
      "metadata": {
        "id": "nXA9PRYNzesi"
      },
      "source": [
        "Bài tập 4:"
      ]
    },
    {
      "cell_type": "code",
      "metadata": {
        "id": "g8WmXY8Azduk",
        "outputId": "35345adf-c765-4431-e394-c26adb16580b",
        "colab": {
          "base_uri": "https://localhost:8080/",
          "height": 140
        }
      },
      "source": [
        "input(\"nhập m= 29\")\n",
        "input(\"nhập n= 10\")\n",
        "m= 29\n",
        "n= 10\n",
        "print(\"m >= n\", m >= n)\n",
        "print(\"m <= n\",m <= n)\n",
        "print(\"m > n\",m > n)\n",
        "print(\"m < n\",m < n)\n",
        "print(\"m != n\",m != n)"
      ],
      "execution_count": null,
      "outputs": [
        {
          "output_type": "stream",
          "text": [
            "nhập m= 29\n",
            "nhập n= 10\n",
            "m >= n True\n",
            "m <= n False\n",
            "m > n True\n",
            "m < n False\n",
            "m != n True\n"
          ],
          "name": "stdout"
        }
      ]
    },
    {
      "cell_type": "markdown",
      "metadata": {
        "id": "CqkqkXMhKXyh"
      },
      "source": [
        "Bài tập 5:"
      ]
    },
    {
      "cell_type": "code",
      "metadata": {
        "id": "Oapvf7qdKbA2",
        "outputId": "75935571-4fb1-4322-edd6-6cb48bc6ba6d",
        "colab": {
          "base_uri": "https://localhost:8080/",
          "height": 52
        }
      },
      "source": [
        "a = \"Hello I'm Here\"\n",
        "print(\"Chuyển thành chuỗi in thường:\",a.lower())\n",
        "print(\"Chuyển thành chuỗi in hoa:\",a.upper())"
      ],
      "execution_count": null,
      "outputs": [
        {
          "output_type": "stream",
          "text": [
            "Chuyển thành chuỗi in thường: hello i'm here\n",
            "Chuyển thành chuỗi in hoa: HELLO I'M HERE\n"
          ],
          "name": "stdout"
        }
      ]
    },
    {
      "cell_type": "markdown",
      "metadata": {
        "id": "NFOfPv5UT3fk"
      },
      "source": [
        "Bài tập 6:"
      ]
    },
    {
      "cell_type": "code",
      "metadata": {
        "id": "-WWeBbglT5yh",
        "outputId": "b948b57d-9687-4a65-f38c-ee6b9f423c6b",
        "colab": {
          "base_uri": "https://localhost:8080/",
          "height": 193
        }
      },
      "source": [
        "m = \"\"\"Vài người làm em đắm say (i know)\n",
        "Vài người mà em nắm tay(i know) \n",
        "Vài người làm em ngất ngây đêm ngày\n",
        "I know you, love it !\n",
        "Một người vì em trắng tay(I am) \n",
        "Một người mà em chẳng hay (Am I ?)\n",
        "Một người vì em cứ xoay xoay vòng\n",
        "It's OK\n",
        "It's OK\n",
        "I love it\"\"\"\n",
        "print(m)"
      ],
      "execution_count": null,
      "outputs": [
        {
          "output_type": "stream",
          "text": [
            "Vài người làm em đắm say (i know)\n",
            "Vài người mà em nắm tay(i know) \n",
            "Vài người làm em ngất ngây đêm ngày\n",
            "I know you, love it !\n",
            "Một người vì em trắng tay(I am) \n",
            "Một người mà em chẳng hay (Am I ?)\n",
            "Một người vì em cứ xoay xoay vòng\n",
            "It's OK\n",
            "It's OK\n",
            "I love it\n"
          ],
          "name": "stdout"
        }
      ]
    }
  ]
}